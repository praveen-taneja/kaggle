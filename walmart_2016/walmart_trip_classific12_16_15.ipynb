{
 "cells": [
  {
   "cell_type": "markdown",
   "metadata": {
    "collapsed": false
   },
   "source": [
    "**Walmart trip classification**: We need to predict TripType.\n",
    "#### Author: Praveen Taneja\n",
    "\n",
    "\n",
    "\n",
    "##### changes for current submission\n",
    "1. Reintroduced some features and selected the best ones based on ensemble methods. Using this process, the most important features are unique_purchases, total_purchases, unique_returns, and many of department descriptions.\n",
    "\n",
    "##### changes for 2nd submission on 12/15/15\n",
    "1. Average of 3 submissions that gave decent scores on 12/10, 12/14, 12/15\n",
    "\n",
    "##### changes for submission on 12/15/15\n",
    "1. By browsing the training data (sort by TripType followed by Visit number) it seems different trip types have some departments that are more common to them. \n",
    "\n",
    "##### changes for submission on (12/14/15)\n",
    "1. Generated 3 new columns 'unique_purchases', 'unique_returns', 'total_purchases'.\n",
    "2. Commented out FineLineNum in to_wide function as we are going to exclude this column from both train and test"
   ]
  },
  {
   "cell_type": "code",
   "execution_count": 87,
   "metadata": {
    "collapsed": false
   },
   "outputs": [],
   "source": [
    "import pandas as pd\n",
    "import numpy as np\n",
    "from IPython.display import display # for displaying dataframe in nice format\n",
    "import matplotlib.pylab as plt\n",
    "%matplotlib inline\n",
    "import collections\n",
    "import sklearn.metrics as metrics\n",
    "import sklearn.svm as svm\n",
    "import sklearn.ensemble as ensemble\n",
    "import sklearn.linear_model as linear_model\n",
    "import sklearn.cross_validation as cross_validation\n",
    "import sklearn.ensemble as ensemble"
   ]
  },
  {
   "cell_type": "code",
   "execution_count": 88,
   "metadata": {
    "collapsed": false
   },
   "outputs": [
    {
     "data": {
      "text/html": [
       "<div>\n",
       "<table border=\"1\" class=\"dataframe\">\n",
       "  <thead>\n",
       "    <tr style=\"text-align: right;\">\n",
       "      <th></th>\n",
       "      <th>TripType</th>\n",
       "      <th>VisitNumber</th>\n",
       "      <th>Weekday</th>\n",
       "      <th>Upc</th>\n",
       "      <th>ScanCount</th>\n",
       "      <th>DepartmentDescription</th>\n",
       "      <th>FinelineNumber</th>\n",
       "    </tr>\n",
       "  </thead>\n",
       "  <tbody>\n",
       "    <tr>\n",
       "      <th>0</th>\n",
       "      <td>999</td>\n",
       "      <td>5</td>\n",
       "      <td>Friday</td>\n",
       "      <td>68113152929</td>\n",
       "      <td>-1</td>\n",
       "      <td>FINANCIAL SERVICES</td>\n",
       "      <td>1000</td>\n",
       "    </tr>\n",
       "  </tbody>\n",
       "</table>\n",
       "</div>"
      ],
      "text/plain": [
       "   TripType  VisitNumber Weekday          Upc  ScanCount  \\\n",
       "0       999            5  Friday  68113152929         -1   \n",
       "\n",
       "  DepartmentDescription  FinelineNumber  \n",
       "0    FINANCIAL SERVICES            1000  "
      ]
     },
     "metadata": {},
     "output_type": "display_data"
    },
    {
     "data": {
      "text/html": [
       "<div>\n",
       "<table border=\"1\" class=\"dataframe\">\n",
       "  <thead>\n",
       "    <tr style=\"text-align: right;\">\n",
       "      <th></th>\n",
       "      <th>TripType</th>\n",
       "      <th>VisitNumber</th>\n",
       "      <th>Weekday</th>\n",
       "      <th>Upc</th>\n",
       "      <th>ScanCount</th>\n",
       "      <th>DepartmentDescription</th>\n",
       "      <th>FinelineNumber</th>\n",
       "    </tr>\n",
       "  </thead>\n",
       "  <tbody>\n",
       "    <tr>\n",
       "      <th>647053</th>\n",
       "      <td>8</td>\n",
       "      <td>191347</td>\n",
       "      <td>Sunday</td>\n",
       "      <td>3800059655</td>\n",
       "      <td>1</td>\n",
       "      <td>GROCERY DRY GOODS</td>\n",
       "      <td>3600</td>\n",
       "    </tr>\n",
       "  </tbody>\n",
       "</table>\n",
       "</div>"
      ],
      "text/plain": [
       "        TripType  VisitNumber Weekday         Upc  ScanCount  \\\n",
       "647053         8       191347  Sunday  3800059655          1   \n",
       "\n",
       "       DepartmentDescription  FinelineNumber  \n",
       "647053     GROCERY DRY GOODS            3600  "
      ]
     },
     "metadata": {},
     "output_type": "display_data"
    },
    {
     "name": "stdout",
     "output_type": "stream",
     "text": [
      " \n",
      " \n"
     ]
    },
    {
     "data": {
      "text/html": [
       "<div>\n",
       "<table border=\"1\" class=\"dataframe\">\n",
       "  <thead>\n",
       "    <tr style=\"text-align: right;\">\n",
       "      <th></th>\n",
       "      <th>VisitNumber</th>\n",
       "      <th>Weekday</th>\n",
       "      <th>Upc</th>\n",
       "      <th>ScanCount</th>\n",
       "      <th>DepartmentDescription</th>\n",
       "      <th>FinelineNumber</th>\n",
       "    </tr>\n",
       "  </thead>\n",
       "  <tbody>\n",
       "    <tr>\n",
       "      <th>0</th>\n",
       "      <td>1</td>\n",
       "      <td>Friday</td>\n",
       "      <td>72503389714</td>\n",
       "      <td>1</td>\n",
       "      <td>SHOES</td>\n",
       "      <td>3002</td>\n",
       "    </tr>\n",
       "  </tbody>\n",
       "</table>\n",
       "</div>"
      ],
      "text/plain": [
       "   VisitNumber Weekday          Upc  ScanCount DepartmentDescription  \\\n",
       "0            1  Friday  72503389714          1                 SHOES   \n",
       "\n",
       "   FinelineNumber  \n",
       "0            3002  "
      ]
     },
     "metadata": {},
     "output_type": "display_data"
    },
    {
     "data": {
      "text/html": [
       "<div>\n",
       "<table border=\"1\" class=\"dataframe\">\n",
       "  <thead>\n",
       "    <tr style=\"text-align: right;\">\n",
       "      <th></th>\n",
       "      <th>VisitNumber</th>\n",
       "      <th>Weekday</th>\n",
       "      <th>Upc</th>\n",
       "      <th>ScanCount</th>\n",
       "      <th>DepartmentDescription</th>\n",
       "      <th>FinelineNumber</th>\n",
       "    </tr>\n",
       "  </thead>\n",
       "  <tbody>\n",
       "    <tr>\n",
       "      <th>653645</th>\n",
       "      <td>191348</td>\n",
       "      <td>Sunday</td>\n",
       "      <td>7871535983</td>\n",
       "      <td>1</td>\n",
       "      <td>MENS WEAR</td>\n",
       "      <td>4923</td>\n",
       "    </tr>\n",
       "  </tbody>\n",
       "</table>\n",
       "</div>"
      ],
      "text/plain": [
       "        VisitNumber Weekday         Upc  ScanCount DepartmentDescription  \\\n",
       "653645       191348  Sunday  7871535983          1             MENS WEAR   \n",
       "\n",
       "        FinelineNumber  \n",
       "653645            4923  "
      ]
     },
     "metadata": {},
     "output_type": "display_data"
    },
    {
     "name": "stdout",
     "output_type": "stream",
     "text": [
      " \n",
      " \n"
     ]
    },
    {
     "data": {
      "text/html": [
       "<div>\n",
       "<table border=\"1\" class=\"dataframe\">\n",
       "  <thead>\n",
       "    <tr style=\"text-align: right;\">\n",
       "      <th></th>\n",
       "      <th>VisitNumber</th>\n",
       "      <th>TripType_3</th>\n",
       "      <th>TripType_4</th>\n",
       "      <th>TripType_5</th>\n",
       "      <th>TripType_6</th>\n",
       "      <th>TripType_7</th>\n",
       "      <th>TripType_8</th>\n",
       "      <th>TripType_9</th>\n",
       "      <th>TripType_12</th>\n",
       "      <th>TripType_14</th>\n",
       "      <th>...</th>\n",
       "      <th>TripType_36</th>\n",
       "      <th>TripType_37</th>\n",
       "      <th>TripType_38</th>\n",
       "      <th>TripType_39</th>\n",
       "      <th>TripType_40</th>\n",
       "      <th>TripType_41</th>\n",
       "      <th>TripType_42</th>\n",
       "      <th>TripType_43</th>\n",
       "      <th>TripType_44</th>\n",
       "      <th>TripType_999</th>\n",
       "    </tr>\n",
       "  </thead>\n",
       "  <tbody>\n",
       "    <tr>\n",
       "      <th>0</th>\n",
       "      <td>1</td>\n",
       "      <td>0</td>\n",
       "      <td>0</td>\n",
       "      <td>0</td>\n",
       "      <td>0</td>\n",
       "      <td>0</td>\n",
       "      <td>0</td>\n",
       "      <td>0</td>\n",
       "      <td>0</td>\n",
       "      <td>0</td>\n",
       "      <td>...</td>\n",
       "      <td>0</td>\n",
       "      <td>0</td>\n",
       "      <td>0</td>\n",
       "      <td>0</td>\n",
       "      <td>0</td>\n",
       "      <td>0</td>\n",
       "      <td>0</td>\n",
       "      <td>0</td>\n",
       "      <td>0</td>\n",
       "      <td>0</td>\n",
       "    </tr>\n",
       "  </tbody>\n",
       "</table>\n",
       "<p>1 rows × 39 columns</p>\n",
       "</div>"
      ],
      "text/plain": [
       "   VisitNumber  TripType_3  TripType_4  TripType_5  TripType_6  TripType_7  \\\n",
       "0            1           0           0           0           0           0   \n",
       "\n",
       "   TripType_8  TripType_9  TripType_12  TripType_14      ...       \\\n",
       "0           0           0            0            0      ...        \n",
       "\n",
       "   TripType_36  TripType_37  TripType_38  TripType_39  TripType_40  \\\n",
       "0            0            0            0            0            0   \n",
       "\n",
       "   TripType_41  TripType_42  TripType_43  TripType_44  TripType_999  \n",
       "0            0            0            0            0             0  \n",
       "\n",
       "[1 rows x 39 columns]"
      ]
     },
     "metadata": {},
     "output_type": "display_data"
    },
    {
     "data": {
      "text/html": [
       "<div>\n",
       "<table border=\"1\" class=\"dataframe\">\n",
       "  <thead>\n",
       "    <tr style=\"text-align: right;\">\n",
       "      <th></th>\n",
       "      <th>VisitNumber</th>\n",
       "      <th>TripType_3</th>\n",
       "      <th>TripType_4</th>\n",
       "      <th>TripType_5</th>\n",
       "      <th>TripType_6</th>\n",
       "      <th>TripType_7</th>\n",
       "      <th>TripType_8</th>\n",
       "      <th>TripType_9</th>\n",
       "      <th>TripType_12</th>\n",
       "      <th>TripType_14</th>\n",
       "      <th>...</th>\n",
       "      <th>TripType_36</th>\n",
       "      <th>TripType_37</th>\n",
       "      <th>TripType_38</th>\n",
       "      <th>TripType_39</th>\n",
       "      <th>TripType_40</th>\n",
       "      <th>TripType_41</th>\n",
       "      <th>TripType_42</th>\n",
       "      <th>TripType_43</th>\n",
       "      <th>TripType_44</th>\n",
       "      <th>TripType_999</th>\n",
       "    </tr>\n",
       "  </thead>\n",
       "  <tbody>\n",
       "    <tr>\n",
       "      <th>95673</th>\n",
       "      <td>191348</td>\n",
       "      <td>0</td>\n",
       "      <td>0</td>\n",
       "      <td>0</td>\n",
       "      <td>0</td>\n",
       "      <td>0</td>\n",
       "      <td>0</td>\n",
       "      <td>0</td>\n",
       "      <td>0</td>\n",
       "      <td>0</td>\n",
       "      <td>...</td>\n",
       "      <td>0</td>\n",
       "      <td>0</td>\n",
       "      <td>0</td>\n",
       "      <td>0</td>\n",
       "      <td>0</td>\n",
       "      <td>0</td>\n",
       "      <td>0</td>\n",
       "      <td>0</td>\n",
       "      <td>0</td>\n",
       "      <td>0</td>\n",
       "    </tr>\n",
       "  </tbody>\n",
       "</table>\n",
       "<p>1 rows × 39 columns</p>\n",
       "</div>"
      ],
      "text/plain": [
       "       VisitNumber  TripType_3  TripType_4  TripType_5  TripType_6  \\\n",
       "95673       191348           0           0           0           0   \n",
       "\n",
       "       TripType_7  TripType_8  TripType_9  TripType_12  TripType_14  \\\n",
       "95673           0           0           0            0            0   \n",
       "\n",
       "           ...       TripType_36  TripType_37  TripType_38  TripType_39  \\\n",
       "95673      ...                 0            0            0            0   \n",
       "\n",
       "       TripType_40  TripType_41  TripType_42  TripType_43  TripType_44  \\\n",
       "95673            0            0            0            0            0   \n",
       "\n",
       "       TripType_999  \n",
       "95673             0  \n",
       "\n",
       "[1 rows x 39 columns]"
      ]
     },
     "metadata": {},
     "output_type": "display_data"
    }
   ],
   "source": [
    "train = pd.read_table('./data/train.csv', delimiter = ',')\n",
    "test = pd.read_table('./data/test.csv', delimiter = ',')\n",
    "sample_submission = pd.read_table('./data/sample_submission.csv', delimiter = ',')\n",
    "\n",
    "display(train.head(1)) # display dataframe in nice format\n",
    "display(train.tail(1)) # display dataframe in nice format\n",
    "print ' '\n",
    "print ' '\n",
    "display(test.head(1)) # display dataframe in nice format\n",
    "display(test.tail(1)) # display dataframe in nice format\n",
    "print ' '\n",
    "print ' '\n",
    "display(sample_submission.head(1)) # display dataframe in nice format\n",
    "display(sample_submission.tail(1)) # display dataframe in nice format"
   ]
  },
  {
   "cell_type": "code",
   "execution_count": 89,
   "metadata": {
    "collapsed": false,
    "scrolled": true
   },
   "outputs": [
    {
     "name": "stdout",
     "output_type": "stream",
     "text": [
      "missing values in different cols\n",
      " \n",
      "TripType                    0\n",
      "VisitNumber                 0\n",
      "Weekday                     0\n",
      "Upc                      4129\n",
      "ScanCount                   0\n",
      "DepartmentDescription    1361\n",
      "FinelineNumber           4129\n",
      "dtype: int64\n",
      "train.shape = (647054, 7)\n",
      "Upc, FinelineNumber have equal number of missing values\n",
      "% missing = 0.638122938735\n",
      " \n",
      "missing values in different cols\n",
      " \n",
      "VisitNumber                 0\n",
      "Weekday                     0\n",
      "Upc                      3986\n",
      "ScanCount                   0\n",
      "DepartmentDescription    1328\n",
      "FinelineNumber           3986\n",
      "dtype: int64\n",
      "test.shape = (653646, 6)\n",
      "Upc, FinelineNumber have equal number of missing values\n",
      "% missing = 0.609810203076\n"
     ]
    }
   ],
   "source": [
    "# missing values\n",
    "print 'missing values in different cols'\n",
    "print ' '\n",
    "print train.isnull().sum()\n",
    "print 'train.shape =', train.shape\n",
    "print 'Upc, FinelineNumber have equal number of missing values'\n",
    "print '% missing =', (4129.0/647054.0)*100\n",
    "\n",
    "print ' '\n",
    "\n",
    "print 'missing values in different cols'\n",
    "print ' '\n",
    "print test.isnull().sum()\n",
    "print 'test.shape =', test.shape\n",
    "print 'Upc, FinelineNumber have equal number of missing values'\n",
    "print '% missing =', (3986.0/653646.0)*100\n"
   ]
  },
  {
   "cell_type": "code",
   "execution_count": 90,
   "metadata": {
    "collapsed": false
   },
   "outputs": [],
   "source": [
    "# missing values\n",
    "'''\n",
    "We can't drop rows with missing values event though %missing is quite small, \n",
    "as we are required to predict outcome for all visits in test data.\n",
    "We could do one of the following.\n",
    "\n",
    "1. Set them to a distinct new category or value. Eg. DepartmentDescription = No_DepartmentDescription.\n",
    "UPC = No_UPC; FinelineNumber = No_FinelineNumber. Makes least assumptions.\n",
    "2. Set them equal to most probable value for that category. \n",
    "3. More complicated imputations.\n",
    "\n",
    "For now lets go with option 1 as there are not so many missing values.\n",
    "'''\n",
    "train['Upc'] = train['Upc'].fillna('Missing_Upc')\n",
    "train['FinelineNumber'] = train['FinelineNumber'].fillna('Missing_FinelineNumber')\n",
    "train['DepartmentDescription'] = train['DepartmentDescription'].fillna('Missing_DepartmentDescription')\n",
    "\n",
    "test['Upc'] = test['Upc'].fillna('Missing_Upc')\n",
    "test['FinelineNumber'] = test['FinelineNumber'].fillna('Missing_FinelineNumber')\n",
    "test['DepartmentDescription'] = test['DepartmentDescription'].fillna('Missing_DepartmentDescription')"
   ]
  },
  {
   "cell_type": "code",
   "execution_count": 91,
   "metadata": {
    "collapsed": false
   },
   "outputs": [
    {
     "name": "stdout",
     "output_type": "stream",
     "text": [
      "38\n",
      "95674\n",
      "7\n",
      "97715\n",
      "39\n",
      "69\n",
      "5196\n",
      " \n",
      "95674\n",
      "7\n",
      "98148\n",
      "49\n",
      "68\n",
      "5204\n"
     ]
    }
   ],
   "source": [
    "print len(train['TripType'].unique())\n",
    "print len(train['VisitNumber'].unique())\n",
    "print len(train['Weekday'].unique())\n",
    "print len(train['Upc'].unique())\n",
    "print len(train['ScanCount'].unique())\n",
    "print len(train['DepartmentDescription'].unique())\n",
    "print len(train['FinelineNumber'].unique())\n",
    "\n",
    "print ' '\n",
    "print len(test['VisitNumber'].unique())\n",
    "print len(test['Weekday'].unique())\n",
    "print len(test['Upc'].unique())\n",
    "print len(test['ScanCount'].unique())\n",
    "print len(test['DepartmentDescription'].unique())\n",
    "print len(test['FinelineNumber'].unique())"
   ]
  },
  {
   "cell_type": "markdown",
   "metadata": {
    "collapsed": false
   },
   "source": [
    "#### There are total of 647054 rows in train, one for each item.  But only 95674 unique visit numbers. This is because many different rows have same visit number. Later we will convert data to wide format with one row per visit because we need to predict trip type for each visit"
   ]
  },
  {
   "cell_type": "code",
   "execution_count": 92,
   "metadata": {
    "collapsed": false
   },
   "outputs": [
    {
     "name": "stdout",
     "output_type": "stream",
     "text": [
      "1\n",
      "0\n"
     ]
    }
   ],
   "source": [
    "# Train and test data have slightly different number of unique DepartmentDescription and FinelineNumber\n",
    "# When changing to wide format, this will lead to different feature set in train and test data. We have\n",
    "# 4 choices. Use union, intersection, train - test, test - train feature sets.\n",
    "# Using intersection\n",
    "\n",
    "train_depts_unique = map(str, train['DepartmentDescription'].unique())\n",
    "test_depts_unique = map(str, test['DepartmentDescription'].unique())\n",
    "\n",
    "\n",
    "train_drop_cols1 = set(train_depts_unique).difference(set(test_depts_unique))\n",
    "test_drop_cols1 = set(test_depts_unique).difference(set(train_depts_unique))\n",
    "\n",
    "\n",
    "print len(train_drop_cols1)\n",
    "print len(test_drop_cols1)\n",
    "\n",
    "train_fineline_unique = map(str, train['FinelineNumber'].unique())\n",
    "test_fineline_unique = map(str, test['FinelineNumber'].unique())\n",
    "\n",
    "# not using fineline number col\n",
    "#train_drop_cols2 = set(train_fineline_unique).difference(set(test_fineline_unique))\n",
    "#test_drop_cols2 = set(test_fineline_unique).difference(set(train_fineline_unique))\n",
    "\n",
    "#print len(train_drop_cols2)\n",
    "#print len(test_drop_cols2)\n",
    "    \n",
    "train_drop_cols = list(train_drop_cols1) #+ list(train_drop_cols2)\n",
    "test_drop_cols = list(test_drop_cols1) #+ list(test_drop_cols2)"
   ]
  },
  {
   "cell_type": "code",
   "execution_count": 93,
   "metadata": {
    "collapsed": false
   },
   "outputs": [],
   "source": [
    "def to_wide(data, groupby_key):\n",
    "    ''' The data has many rows that have same visit number and trip type. These correspond to\n",
    "    different items purchased. Column names are as follows.\n",
    "    \n",
    "    TripType, VisitNumber, Weekday, Upc, ScanCount, DepartmentDescription, FinelineNumber\n",
    "    \n",
    "    We want each visit to be represented in a single row. TripType, VisitNumber, Weekday \n",
    "    are same for all items in a single visit. For Upc which is item code we can have columns\n",
    "    for all unique UPCs and each row entry can be sum of ScanCount for that UPC. Similarly, we\n",
    "    can have different columns for different FinelineNumber and for each row the entry can \n",
    "    sum of FinelineNumber for that UPC.\n",
    "    \n",
    "    Implementation - Convert to pandas data frame. Group by visit number. We can make the data\n",
    "    frame in the begining and fill it row by row. Even though we can use a dictionary the \n",
    "    implementation will not be clean.\n",
    "    '''\n",
    "    \n",
    "    unique_visits = data['VisitNumber'].unique()\n",
    "    unique_days = data['Weekday'].unique()\n",
    "    unique_upcs = data['Upc'].unique()\n",
    "    unique_dept_desc = data['DepartmentDescription'].unique()\n",
    "    unique_fine_line_num = data['FinelineNumber'].unique()\n",
    "    \n",
    "    # additional columns\n",
    "    additional_columns = ['unique_purchases', 'unique_returns', 'total_purchases']\n",
    "    \n",
    "    num_unique_visits = len(unique_visits)\n",
    "    print 'num_unique_visits =', num_unique_visits\n",
    "    \n",
    "    TripType_present = False\n",
    "    if 'TripType' in data.columns:\n",
    "        TripType_present = True\n",
    "    print 'TripType_present =', TripType_present\n",
    "    if TripType_present:    \n",
    "        cols = ['TripType', 'VisitNumber']\n",
    "    else:\n",
    "        cols = ['VisitNumber']\n",
    "    \n",
    "    \n",
    "    for day in unique_days:\n",
    "        cols.append(day)\n",
    "    for dept_desc in unique_dept_desc:\n",
    "        cols.append(str(dept_desc))\n",
    "    #for upc in unique_upcs:\n",
    "    #    cols.append(upc)\n",
    "    #for fine_line_num in unique_fine_line_num:\n",
    "    #    cols.append(str(fine_line_num))\n",
    "    for additional_column in additional_columns:\n",
    "        cols.append(str(additional_column))\n",
    "    \n",
    "    \n",
    "    # initialize\n",
    "    d = collections.OrderedDict()\n",
    "    for col in cols:\n",
    "        d[col] = [0]*num_unique_visits\n",
    "        \n",
    "    grouped = data.groupby(groupby_key)\n",
    "    #print 'groupby_key', groupby_key\n",
    "    \n",
    "    i = 0    \n",
    "    for name, group in grouped:\n",
    "        \n",
    "        if TripType_present:\n",
    "            d['TripType'][i] =  group['TripType'].iloc[0]\n",
    "        \n",
    "        d['VisitNumber'][i] =  group['VisitNumber'].iloc[0]\n",
    "        \n",
    "        day = group['Weekday'].iloc[0]\n",
    "        d[day][i] =  1\n",
    "        \n",
    "        depts = group['DepartmentDescription'].unique()\n",
    "        for dept in depts:\n",
    "            \n",
    "            #d[str(dept)][i] = group['ScanCount'][group['DepartmentDescription'] ==\n",
    "            #        dept].sum()\n",
    "            \n",
    "            d[str(dept)][i] = group['DepartmentDescription'][group['DepartmentDescription'] ==\n",
    "                    dept].count() # 12_15_15\n",
    "        \n",
    "        \n",
    "        '''\n",
    "        \n",
    "        fine_line_nums = group['FinelineNumber'].unique()\n",
    "        for fine_line_num in fine_line_nums:\n",
    "            d[str(fine_line_num)][i] = group['ScanCount'][group['FinelineNumber'] ==\n",
    "                    fine_line_num].sum()\n",
    "        \n",
    "        '''\n",
    "        upcs = group['Upc'][group['ScanCount'] >= 0].unique()\n",
    "        d['unique_purchases'][i] = len(upcs)\n",
    "        \n",
    "        upcs_returned = group['Upc'][group['ScanCount'] < 0].unique()\n",
    "        d['unique_returns'][i] = len(upcs_returned)\n",
    "        \n",
    "        upcs = group['ScanCount'][group['ScanCount'] >= 0]\n",
    "        d['total_purchases'][i] = upcs.sum()\n",
    "        \n",
    "            \n",
    "        i = i + 1\n",
    " \n",
    "    return pd.DataFrame(d)"
   ]
  },
  {
   "cell_type": "code",
   "execution_count": 94,
   "metadata": {
    "collapsed": false,
    "scrolled": true
   },
   "outputs": [
    {
     "name": "stdout",
     "output_type": "stream",
     "text": [
      "num_unique_visits = 95674\n",
      "TripType_present = True\n",
      "num_unique_visits = 95674\n",
      "TripType_present = False\n"
     ]
    }
   ],
   "source": [
    "train_wide =  to_wide(train, 'VisitNumber')\n",
    "test_wide =  to_wide(test, 'VisitNumber')\n",
    "#train_wide.to_csv('./data/train_wide.csv', index = False)\n",
    "#test_wide.to_csv('./data/test_wide.csv', index = False)"
   ]
  },
  {
   "cell_type": "code",
   "execution_count": 95,
   "metadata": {
    "collapsed": false,
    "scrolled": true
   },
   "outputs": [
    {
     "name": "stdout",
     "output_type": "stream",
     "text": [
      "<type 'list'>\n",
      "train columns ['TripType' 'VisitNumber' 'Friday' 'Saturday' 'Sunday' 'Monday' 'Tuesday'\n",
      " 'Wednesday' 'Thursday' 'SHOES' 'DAIRY' 'GROCERY DRY GOODS' 'DSD GROCERY'\n",
      " 'BAKERY' 'IMPULSE MERCHANDISE' 'PERSONAL CARE' 'FABRICS AND CRAFTS'\n",
      " 'BOYS WEAR' 'PRE PACKED DELI' 'MENS WEAR']\n",
      " \n",
      "test columns ['VisitNumber' 'Friday' 'Saturday' 'Sunday' 'Monday' 'Tuesday' 'Wednesday'\n",
      " 'Thursday' 'SHOES' 'DAIRY' 'GROCERY DRY GOODS' 'DSD GROCERY' 'BAKERY'\n",
      " 'IMPULSE MERCHANDISE' 'PERSONAL CARE' 'FABRICS AND CRAFTS' 'BOYS WEAR'\n",
      " 'PRE PACKED DELI' 'MENS WEAR' 'CELEBRATION']\n"
     ]
    }
   ],
   "source": [
    "train_wide_common = train_wide.drop(train_drop_cols, axis = 1)\n",
    "test_wide_common = test_wide.drop(test_drop_cols, axis = 1)\n",
    "\n",
    "# rearrange train columsn in same sequence as test columns\n",
    "test_wide_cols = list(test_wide_common.columns.values)\n",
    "print type(test_wide_cols)\n",
    "train_wide_cols = ['TripType'] + test_wide_cols\n",
    "train_wide_common = train_wide_common[train_wide_cols]\n",
    "\n",
    "print 'train columns', train_wide_common.columns.values[0:20]\n",
    "print ' '\n",
    "print 'test columns', test_wide_common.columns.values[0:20]"
   ]
  },
  {
   "cell_type": "code",
   "execution_count": 96,
   "metadata": {
    "collapsed": false,
    "scrolled": true
   },
   "outputs": [
    {
     "name": "stdout",
     "output_type": "stream",
     "text": [
      "0 75 unique_purchases 0.112269057428\n",
      "1 77 total_purchases 0.0915810359467\n",
      "2 10 DSD GROCERY 0.0407953235067\n",
      "3 34 FINANCIAL SERVICES 0.0372485978226\n",
      "4 76 unique_returns 0.0367112378497\n",
      "5 13 PERSONAL CARE 0.0310467172741\n",
      "6 23 PHARMACY OTC 0.0300073016768\n",
      "7 21 PRODUCE 0.0262957127256\n",
      "8 9 GROCERY DRY GOODS 0.0258989520591\n",
      "9 8 DAIRY 0.0256291418816\n",
      "10 31 SERVICE DELI 0.0249663027208\n",
      "11 12 IMPULSE MERCHANDISE 0.0236396314159\n",
      "12 19 HOUSEHOLD CHEMICALS/SUPP 0.0195076326873\n",
      "13 17 MENS WEAR 0.0194512837237\n",
      "14 62 PHARMACY RX 0.0167463034655\n",
      "15 49 INFANT CONSUMABLE HARDLINES 0.0162230374279\n",
      "16 20 FROZEN FOODS 0.0157487166264\n",
      "17 41 BEAUTY 0.0152770543299\n",
      "18 25 HOUSEHOLD PAPER GOODS 0.0141196191401\n",
      "19 28 COMM BREAD 0.0129603746252\n",
      "20 33 MEAT - FRESH & FROZEN 0.0128376832275\n",
      "21 1 Saturday 0.0123735240107\n",
      "22 24 CANDY, TOBACCO, COOKIES 0.012332695415\n",
      "23 39 LADIESWEAR 0.0120142073691\n",
      "24 2 Sunday 0.0119426693477\n",
      "25 0 Friday 0.0119058748106\n",
      "26 45 AUTOMOTIVE 0.0112222725394\n",
      "27 32 PETS AND SUPPLIES 0.011128798442\n",
      "28 7 SHOES 0.010899474323\n",
      "29 3 Monday 0.0108293278304\n",
      "30 52 LIQUOR,WINE,BEER 0.0108228407123\n",
      "31 18 CELEBRATION 0.0103895423204\n",
      "32 30 COOK AND DINE 0.010317740235\n",
      "33 5 Wednesday 0.0102410815355\n",
      "34 6 Thursday 0.0100164356406\n",
      "35 48 OFFICE SUPPLIES 0.0100122161838\n",
      "36 11 BAKERY 0.00995102912638\n",
      "37 60 TOYS 0.00984509907804\n",
      "38 22 HOME MANAGEMENT 0.00980222057816\n",
      "39 4 Tuesday 0.00963445172485\n",
      "40 26 SPORTING GOODS 0.0093769433262\n",
      "41 27 HARDWARE 0.00913546246037\n",
      "42 16 PRE PACKED DELI 0.00852217428739\n",
      "43 47 ELECTRONICS 0.00772160272793\n",
      "44 44 LAWN AND GARDEN 0.00770903310931\n",
      "45 14 FABRICS AND CRAFTS 0.00667882596671\n",
      "46 29 HOME DECOR 0.00663716898089\n",
      "47 51 INFANT APPAREL 0.00628015835608\n",
      "48 36 WIRELESS 0.00609947213938\n",
      "49 46 BATH AND SHOWER 0.00595447803264\n",
      "50 59 BEDDING 0.00527979904948\n",
      "51 15 BOYS WEAR 0.00520376019262\n",
      "52 56 JEWELRY AND SUNGLASSES 0.00501449397321\n",
      "53 50 GIRLS WEAR, 4-6X  AND 7-14 0.00481803913838\n",
      "54 37 MEDIA AND GAMING 0.00475409338209\n",
      "55 55 HORTICULTURE AND ACCESS 0.00470595994263\n",
      "56 40 SLEEPWEAR/FOUNDATIONS 0.00397552232868\n",
      "57 42 BRAS & SHAPEWEAR 0.00347585317566\n",
      "58 38 PAINT AND ACCESSORIES 0.00345658198943\n",
      "59 53 Missing_DepartmentDescription 0.00332595264581\n",
      "60 61 OPTICAL - FRAMES 0.00321205690978\n",
      "61 35 SEAFOOD 0.00311133411361\n",
      "62 57 ACCESSORIES 0.00308884815834\n",
      "63 54 BOOKS AND MAGAZINES 0.0023124178616\n",
      "64 43 FURNITURE 0.0020985127288\n",
      "65 65 PLAYERS AND ELECTRONICS 0.00195341762058\n",
      "66 67 SWIMWEAR/OUTERWEAR 0.00182951793483\n",
      "67 58 LADIES SOCKS 0.00164240339758\n",
      "68 72 1-HR PHOTO 0.00144151009083\n",
      "69 69 SHEER HOSIERY 0.00109234102155\n",
      "70 70 LARGE HOUSEHOLD GOODS 0.00107671356287\n",
      "71 66 PLUS AND MATERNITY 0.00107580670831\n",
      "72 63 CAMERAS AND SUPPLIES 0.000975055913392\n",
      "73 64 MENSWEAR 0.000912948898453\n",
      "74 71 OPTICAL - LENSES 0.000525197759732\n",
      "75 68 CONCEPT STORES 0.000456582035464\n",
      "76 73 OTHER DEPARTMENTS 0.000328836909343\n",
      "77 74 SEASONAL 9.89043858979e-05\n"
     ]
    },
    {
     "data": {
      "text/plain": [
       "<Container object of 78 artists>"
      ]
     },
     "execution_count": 96,
     "metadata": {},
     "output_type": "execute_result"
    },
    {
     "data": {
      "image/png": "[encoded data removed]",
      "text/plain": [
       "<matplotlib.figure.Figure at 0x117211610>"
      ]
     },
     "metadata": {},
     "output_type": "display_data"
    }
   ],
   "source": [
    "# Feature selection\n",
    "y_train = train_wide_common['TripType'].values\n",
    "X_train = train_wide_common.drop(['TripType', 'VisitNumber'], axis = 1).values\n",
    "clf = ensemble.ExtraTreesClassifier()\n",
    "clf.fit(X_train, y_train)\n",
    "important_features = clf.feature_importances_\n",
    "std = np.std([tree.feature_importances_ for tree in clf.estimators_], axis = 0)\n",
    "indices = np.argsort(important_features)[::-1] # sort in descending order\n",
    "col_names = train_wide_common.drop(['TripType', 'VisitNumber'], axis = 1).columns.values\n",
    "\n",
    "for col in range(X_train.shape[1]):\n",
    "    print col, indices[col], col_names[indices[col]],  important_features[indices[col]]\n",
    "plt.bar(range(X_train.shape[1]), important_features[indices], yerr= std[indices], color = 'red')"
   ]
  },
  {
   "cell_type": "code",
   "execution_count": 97,
   "metadata": {
    "collapsed": false,
    "scrolled": false
   },
   "outputs": [
    {
     "name": "stdout",
     "output_type": "stream",
     "text": [
      "(95674, 80)\n",
      "(95674, 21)\n",
      "[ 0.56760144  0.56863769  0.5623661   0.5688294   0.56923157] 0.567333241829\n"
     ]
    }
   ],
   "source": [
    "top_features = col_names[indices][0:20]\n",
    "top_features_w_TripType = ['TripType'] + list(top_features)\n",
    "print train_wide_common.shape\n",
    "train_wide_common = train_wide_common[top_features_w_TripType]\n",
    "print train_wide_common.shape\n",
    "y_train = train_wide_common['TripType'].values\n",
    "X_train = train_wide_common.drop(['TripType'], axis = 1).values\n",
    "\n",
    "clf = linear_model.logistic.LogisticRegression(C = 1, n_jobs = -1)\n",
    "scores = cross_validation.cross_val_score(clf, X_train, y_train, cv = 5)\n",
    "print scores, scores.mean()"
   ]
  },
  {
   "cell_type": "code",
   "execution_count": 98,
   "metadata": {
    "collapsed": false,
    "scrolled": true
   },
   "outputs": [
    {
     "name": "stdout",
     "output_type": "stream",
     "text": [
      "(95674, 38)\n"
     ]
    }
   ],
   "source": [
    "test_wide_common_orig = test_wide_common.copy()\n",
    "test_wide_common = test_wide_common[top_features]\n",
    "X_test = test_wide_common.values\n",
    "clf.fit(X_train, y_train)\n",
    "predicted_proba = clf.predict_proba(X_test)\n",
    "print predicted_proba.shape"
   ]
  },
  {
   "cell_type": "code",
   "execution_count": 99,
   "metadata": {
    "collapsed": false,
    "scrolled": true
   },
   "outputs": [
    {
     "name": "stdout",
     "output_type": "stream",
     "text": [
      "['TripType_3', 'TripType_4', 'TripType_5', 'TripType_6', 'TripType_7', 'TripType_8', 'TripType_9', 'TripType_12', 'TripType_14', 'TripType_15', 'TripType_18', 'TripType_19', 'TripType_20', 'TripType_21', 'TripType_22', 'TripType_23', 'TripType_24', 'TripType_25', 'TripType_26', 'TripType_27', 'TripType_28', 'TripType_29', 'TripType_30', 'TripType_31', 'TripType_32', 'TripType_33', 'TripType_34', 'TripType_35', 'TripType_36', 'TripType_37', 'TripType_38', 'TripType_39', 'TripType_40', 'TripType_41', 'TripType_42', 'TripType_43', 'TripType_44', 'TripType_999']\n",
      "(95674, 39)\n"
     ]
    }
   ],
   "source": [
    "unique_trip_types =  np.sort(train_wide_common['TripType'].unique())\n",
    "unique_trip_types =  ['TripType_'+ str(t) for t in unique_trip_types]\n",
    "print unique_trip_types\n",
    "\n",
    "unique_visits = test_wide_common_orig['VisitNumber']\n",
    "df_predicted = pd.DataFrame(predicted_proba, columns = unique_trip_types)\n",
    "df_predicted = pd.concat([unique_visits, df_predicted], axis = 1)\n",
    "print df_predicted.shape\n",
    "df_predicted.to_csv('./data/test_predicted.csv', index = False)\n"
   ]
  },
  {
   "cell_type": "code",
   "execution_count": null,
   "metadata": {
    "collapsed": false,
    "scrolled": true
   },
   "outputs": [],
   "source": []
  }
 ],
 "metadata": {
  "kernelspec": {
   "display_name": "Python 2",
   "language": "python",
   "name": "python2"
  },
  "language_info": {
   "codemirror_mode": {
    "name": "ipython",
    "version": 2
   },
   "file_extension": ".py",
   "mimetype": "text/x-python",
   "name": "python",
   "nbconvert_exporter": "python",
   "pygments_lexer": "ipython2",
   "version": "2.7.9"
  }
 },
 "nbformat": 4,
 "nbformat_minor": 0
}
